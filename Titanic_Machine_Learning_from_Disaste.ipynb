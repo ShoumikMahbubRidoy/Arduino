{
  "nbformat": 4,
  "nbformat_minor": 0,
  "metadata": {
    "colab": {
      "name": "Titanic-Machine-Learning-from-Disaste.ipynb",
      "provenance": [],
      "private_outputs": true,
      "authorship_tag": "ABX9TyPOo1Aeue0nDQR+xYs5aTZC",
      "include_colab_link": true
    },
    "kernelspec": {
      "name": "python3",
      "display_name": "Python 3"
    }
  },
  "cells": [
    {
      "cell_type": "markdown",
      "metadata": {
        "id": "view-in-github",
        "colab_type": "text"
      },
      "source": [
        "<a href=\"https://colab.research.google.com/github/ShoumikMahbubRidoy/Arduino/blob/master/Titanic_Machine_Learning_from_Disaste.ipynb\" target=\"_parent\"><img src=\"https://colab.research.google.com/assets/colab-badge.svg\" alt=\"Open In Colab\"/></a>"
      ]
    },
    {
      "cell_type": "code",
      "metadata": {
        "id": "RpDfDZiEUoWC",
        "colab_type": "code",
        "colab": {}
      },
      "source": [
        "import pandas as pd\n",
        "\n",
        "import numpy as np\n",
        "\n",
        "import matplotlib.pyplot as plt\n",
        "import seaborn as sns \n",
        "%matplotlib inline\n",
        "from sklearn.preprocessing import LabelEncoder\n",
        "from sklearn.linear_model import LogisticRegression\n",
        "from sklearn.metrics import accuracy_score\n",
        "from sklearn.tree import DecisionTreeClassifier\n",
        "from sklearn.ensemble import RandomForestClassifier\n",
        "from sklearn import metrics\n",
        "from sklearn.model_selection import train_test_split\n",
        "from sklearn.naive_bayes import GaussianNB, BernoulliNB,MultinomialNB\n",
        "from time import time\n",
        "import sklearn.metrics as metrics\n",
        "from sklearn.metrics import confusion_matrix,roc_auc_score,roc_curve\n",
        "from sklearn.tree import plot_tree, export_text\n",
        "from sklearn.ensemble import BaggingClassifier\n",
        "from sklearn.tree import DecisionTreeClassifier\n",
        "from sklearn.model_selection import GridSearchCV\n",
        "from sklearn.ensemble import AdaBoostClassifier\n",
        "from sklearn.ensemble import GradientBoostingClassifier\n",
        "sns.set()\n",
        "import warnings\n",
        "warnings.filterwarnings(\"ignore\", category=FutureWarning)\n",
        "warnings.filterwarnings(\"ignore\", category=DeprecationWarning)\n",
        "warnings.filterwarnings(\"ignore\")"
      ],
      "execution_count": null,
      "outputs": []
    },
    {
      "cell_type": "code",
      "metadata": {
        "id": "0SXDZBHLU9qF",
        "colab_type": "code",
        "colab": {}
      },
      "source": [
        "from google.colab import files\n",
        "uploaded = files.upload()"
      ],
      "execution_count": null,
      "outputs": []
    },
    {
      "cell_type": "code",
      "metadata": {
        "id": "c_RPkpmFXAkj",
        "colab_type": "code",
        "colab": {}
      },
      "source": [
        "titanic = titanic.drop_duplicates()"
      ],
      "execution_count": null,
      "outputs": []
    },
    {
      "cell_type": "code",
      "metadata": {
        "id": "adRrJNgGVZ2A",
        "colab_type": "code",
        "colab": {}
      },
      "source": [
        "titanic=pd.read_csv('train.csv')\n",
        "titanic.head()"
      ],
      "execution_count": null,
      "outputs": []
    },
    {
      "cell_type": "code",
      "metadata": {
        "id": "C7N8Fp4VXP36",
        "colab_type": "code",
        "colab": {}
      },
      "source": [
        "titanic.columns"
      ],
      "execution_count": null,
      "outputs": []
    },
    {
      "cell_type": "code",
      "metadata": {
        "id": "kmeUOmwKXZI8",
        "colab_type": "code",
        "colab": {}
      },
      "source": [
        "print(\"Number Of Rows = %s\" % titanic.shape[0])\n",
        "print(\"Number Of Columns = %s\" % titanic.shape[1])"
      ],
      "execution_count": null,
      "outputs": []
    },
    {
      "cell_type": "code",
      "metadata": {
        "id": "6bYTBQ6PXqgV",
        "colab_type": "code",
        "colab": {}
      },
      "source": [
        "pd.options.display.float_format = '{:.2f}'.format"
      ],
      "execution_count": null,
      "outputs": []
    },
    {
      "cell_type": "code",
      "metadata": {
        "id": "OpOYh1l_Uf0C",
        "colab_type": "code",
        "colab": {}
      },
      "source": [
        "numerical_feats = titanic.dtypes[titanic.dtypes != \"object\"].index\n",
        "print(\"Number of Numerical features: \", len(numerical_feats))\n",
        "\n",
        "categorical_feats = titanic.dtypes[titanic.dtypes == \"object\"].index\n",
        "print(\"Number of Categorical features: \", len(categorical_feats))"
      ],
      "execution_count": null,
      "outputs": []
    },
    {
      "cell_type": "code",
      "metadata": {
        "id": "uuWBTWR5UmFt",
        "colab_type": "code",
        "colab": {}
      },
      "source": [
        "sns.distplot(titanic['Survived']);\n",
        "print(\"Skewness: %f\" % titanic['Survived'].skew())\n",
        "print(\"Kurtosis: %f\" % titanic['Survived'].kurt())"
      ],
      "execution_count": null,
      "outputs": []
    },
    {
      "cell_type": "code",
      "metadata": {
        "id": "FBsNBNGrUw2i",
        "colab_type": "code",
        "colab": {}
      },
      "source": [
        "for col in numerical_feats:\n",
        "    print('{:15}'.format(col), \n",
        "          'Skewness: {:05.2f}'.format(titanic[col].skew()) , \n",
        "          '   ' ,\n",
        "          'Kurtosis: {:06.2f}'.format(titanic[col].kurt())  \n",
        "         )"
      ],
      "execution_count": null,
      "outputs": []
    },
    {
      "cell_type": "code",
      "metadata": {
        "id": "G2DK6ctZVB1I",
        "colab_type": "code",
        "colab": {}
      },
      "source": [
        "titanic.describe(include='object').T"
      ],
      "execution_count": null,
      "outputs": []
    },
    {
      "cell_type": "code",
      "metadata": {
        "id": "i-n4-iCPVH6T",
        "colab_type": "code",
        "colab": {}
      },
      "source": [
        "titanic.describe(include=['int','float64']).T"
      ],
      "execution_count": null,
      "outputs": []
    },
    {
      "cell_type": "code",
      "metadata": {
        "id": "xoqXHBSRVevG",
        "colab_type": "code",
        "colab": {}
      },
      "source": [
        "for i in titanic.columns:\n",
        "    if(titanic[i].dtype!=type(object)):\n",
        "        print(i,':\\n',titanic[i].unique(),'\\n')"
      ],
      "execution_count": null,
      "outputs": []
    },
    {
      "cell_type": "code",
      "metadata": {
        "id": "Z_kwYm1PVoF_",
        "colab_type": "code",
        "colab": {}
      },
      "source": [
        "for i in titanic.columns:\n",
        "    if(titanic[i].dtype!=type(object)):\n",
        "        q1=titanic[i].quantile(0.25)\n",
        "        q3=titanic[i].quantile(0.75)\n",
        "        IQR=q3-q1\n",
        "        ub=q3+(1.5*IQR)\n",
        "        lb=q1-(1.5*IQR)\n",
        "        out_ub=titanic[titanic[i]>ub][i]\n",
        "        out_lb=titanic[titanic[i]<lb][i]\n",
        "        print(\"no of outliers in\",i,\"is\",len(out_ub)+len(out_lb))"
      ],
      "execution_count": null,
      "outputs": []
    },
    {
      "cell_type": "code",
      "metadata": {
        "id": "vGE8hy7pVyRa",
        "colab_type": "code",
        "colab": {}
      },
      "source": [
        "plt.figure(figsize=(10,10))\n",
        "\n",
        "\n",
        "plt.subplot(2,3,1)\n",
        "plt.title('Fare')\n",
        "plt.boxplot(titanic['Fare'],patch_artist=True)\n",
        "\n",
        "\n",
        "plt.subplot(2,3,2)\n",
        "plt.title('SibSp')\n",
        "plt.boxplot(titanic['SibSp'],patch_artist=True)\n",
        "\n",
        "plt.subplot(2,3,3)\n",
        "plt.title('Parch')\n",
        "plt.boxplot(titanic['Parch'],patch_artist=True)"
      ],
      "execution_count": null,
      "outputs": []
    },
    {
      "cell_type": "code",
      "metadata": {
        "id": "wy8A7P34V8SD",
        "colab_type": "code",
        "colab": {}
      },
      "source": [
        "titanic=titanic.drop(['PassengerId'],1)\n",
        "titanic.head()"
      ],
      "execution_count": null,
      "outputs": []
    },
    {
      "cell_type": "code",
      "metadata": {
        "id": "na31vZf7WApN",
        "colab_type": "code",
        "colab": {}
      },
      "source": [
        "titanic['Pclass'].unique()"
      ],
      "execution_count": null,
      "outputs": []
    },
    {
      "cell_type": "code",
      "metadata": {
        "id": "4-JBQ3h7WKp5",
        "colab_type": "code",
        "colab": {}
      },
      "source": [
        "sns.countplot(x=titanic['Pclass'])"
      ],
      "execution_count": null,
      "outputs": []
    },
    {
      "cell_type": "code",
      "metadata": {
        "id": "GQjcz7zaWOZ7",
        "colab_type": "code",
        "colab": {}
      },
      "source": [
        "sns.catplot(x='Pclass',y='Survived',data=titanic,kind='bar')"
      ],
      "execution_count": null,
      "outputs": []
    },
    {
      "cell_type": "code",
      "metadata": {
        "id": "--oYCmhOWWCe",
        "colab_type": "code",
        "colab": {}
      },
      "source": [
        "titanic['Name'].head()"
      ],
      "execution_count": null,
      "outputs": []
    },
    {
      "cell_type": "code",
      "metadata": {
        "id": "B7np99NaWewA",
        "colab_type": "code",
        "colab": {}
      },
      "source": [
        "titanic['Title']=titanic['Name'].str.extract('([A-Za-z]+)\\.',)\n",
        "titanic['Title'].unique()"
      ],
      "execution_count": null,
      "outputs": []
    },
    {
      "cell_type": "code",
      "metadata": {
        "id": "EEBVX_S2Wnc9",
        "colab_type": "code",
        "colab": {}
      },
      "source": [
        "sns.countplot(y=titanic['Title'])"
      ],
      "execution_count": null,
      "outputs": []
    },
    {
      "cell_type": "code",
      "metadata": {
        "id": "Bum0HaAKWrs-",
        "colab_type": "code",
        "colab": {}
      },
      "source": [
        "sns.catplot(y='Title',x='Survived',data=titanic,kind='bar')"
      ],
      "execution_count": null,
      "outputs": []
    },
    {
      "cell_type": "code",
      "metadata": {
        "id": "9Jd5DLRcW0HD",
        "colab_type": "code",
        "colab": {}
      },
      "source": [
        "titanic=titanic.drop(['Name'],1)\n",
        "titanic.head()"
      ],
      "execution_count": null,
      "outputs": []
    },
    {
      "cell_type": "code",
      "metadata": {
        "id": "3sor9oAaW7AI",
        "colab_type": "code",
        "colab": {}
      },
      "source": [
        "sns.countplot(titanic['Sex'])"
      ],
      "execution_count": null,
      "outputs": []
    },
    {
      "cell_type": "code",
      "metadata": {
        "id": "8CGXpwW5XAx8",
        "colab_type": "code",
        "colab": {}
      },
      "source": [
        "sns.catplot(x='Sex',y='Survived',data=titanic,kind='bar')"
      ],
      "execution_count": null,
      "outputs": []
    },
    {
      "cell_type": "code",
      "metadata": {
        "id": "MQQfs5IpXHjp",
        "colab_type": "code",
        "colab": {}
      },
      "source": [
        "sns.catplot(x='Sex',y='Survived',data=titanic,kind='bar',hue='Pclass')"
      ],
      "execution_count": null,
      "outputs": []
    },
    {
      "cell_type": "code",
      "metadata": {
        "id": "YEMd5DbwXTbM",
        "colab_type": "code",
        "colab": {}
      },
      "source": [
        "titanic['Sex']=titanic['Sex'].map({'male':0,'female':1})"
      ],
      "execution_count": null,
      "outputs": []
    },
    {
      "cell_type": "code",
      "metadata": {
        "id": "FR5rxP5EXiyb",
        "colab_type": "code",
        "colab": {}
      },
      "source": [
        "print(titanic.Pclass.unique())\n",
        "print(titanic.Sex.unique())"
      ],
      "execution_count": null,
      "outputs": []
    },
    {
      "cell_type": "code",
      "metadata": {
        "id": "TKYW0jX8XruW",
        "colab_type": "code",
        "colab": {}
      },
      "source": [
        "for i in range(0,2):\n",
        "    for j in range(0,3):\n",
        "        print(i,j+1)\n",
        "        temp_dataset=titanic[(titanic['Sex']==i) &  (titanic['Pclass']==j+1)]['Age'].dropna()\n",
        "        print(temp_dataset)\n",
        "        #print(str(temp_dataset.median())+\"  \"+str(i)+\"  \"+str(j+1))\n",
        "        titanic.loc[(titanic.Age.isnull()) & (titanic.Sex==i) & (titanic.Pclass==j+1),'Age']=int(temp_dataset.median())"
      ],
      "execution_count": null,
      "outputs": []
    },
    {
      "cell_type": "code",
      "metadata": {
        "id": "pLl8VzQ4XxD6",
        "colab_type": "code",
        "colab": {}
      },
      "source": [
        "titanic['Fare']=titanic['Fare'].fillna(titanic.loc[(titanic['Pclass']==3) & (titanic['Sex']==\"male\") & (titanic['Age']<65) & (titanic['Age']>55)].dropna()['Fare'].mean())"
      ],
      "execution_count": null,
      "outputs": []
    },
    {
      "cell_type": "code",
      "metadata": {
        "id": "af6AGJN-X8f1",
        "colab_type": "code",
        "colab": {}
      },
      "source": [
        "titanic['Fare_Band']=pd.cut(titanic['Fare'],3)\n",
        "titanic['Fare_Band'].unique()"
      ],
      "execution_count": null,
      "outputs": []
    },
    {
      "cell_type": "code",
      "metadata": {
        "id": "LrIydmeEYIfI",
        "colab_type": "code",
        "colab": {}
      },
      "source": [
        "titanic.loc[(titanic['Fare']<=170.776),'Fare']=1\n",
        "titanic.loc[(titanic['Fare']>170.776) & (titanic['Fare']<=314.553),'Fare']=2\n",
        "titanic.loc[(titanic['Fare']>314.553) & (titanic['Fare']<=513),'Fare']=3\n",
        "titanic=titanic.drop(['Fare_Band'],1)"
      ],
      "execution_count": null,
      "outputs": []
    },
    {
      "cell_type": "code",
      "metadata": {
        "id": "fsK6pN6cYQkr",
        "colab_type": "code",
        "colab": {}
      },
      "source": [
        "titanic['Fare'].value_counts()"
      ],
      "execution_count": null,
      "outputs": []
    },
    {
      "cell_type": "code",
      "metadata": {
        "id": "ws9EoZOzYbt-",
        "colab_type": "code",
        "colab": {}
      },
      "source": [
        "titanic['Age_Band']=pd.cut(titanic['Age'],5)\n",
        "titanic['Age_Band'].unique()\n",
        "sns.catplot(y=\"Age_Band\",x='Survived',data=titanic,kind='bar')"
      ],
      "execution_count": null,
      "outputs": []
    },
    {
      "cell_type": "code",
      "metadata": {
        "id": "KYWlQkAjYk1A",
        "colab_type": "code",
        "colab": {}
      },
      "source": [
        "sns.catplot(y=\"Age_Band\",x='Survived',data=titanic,kind='bar',hue='Pclass')"
      ],
      "execution_count": null,
      "outputs": []
    },
    {
      "cell_type": "code",
      "metadata": {
        "id": "H9qa_rWSYuN8",
        "colab_type": "code",
        "colab": {}
      },
      "source": [
        "g = sns.FacetGrid(titanic, col='Survived')\n",
        "g.map(plt.hist, 'Age', bins=20)"
      ],
      "execution_count": null,
      "outputs": []
    },
    {
      "cell_type": "code",
      "metadata": {
        "id": "Zh062nRoZ42O",
        "colab_type": "code",
        "colab": {}
      },
      "source": [
        "g = sns.FacetGrid(titanic, col='Survived',row='Sex')\n",
        "g.map(plt.hist, 'Age', bins=20)"
      ],
      "execution_count": null,
      "outputs": []
    },
    {
      "cell_type": "code",
      "metadata": {
        "id": "CD9PgtfLaDAb",
        "colab_type": "code",
        "colab": {}
      },
      "source": [
        "g = sns.FacetGrid(titanic, row='Survived',col='Pclass')\n",
        "g.map(plt.hist, 'Age', bins=20)"
      ],
      "execution_count": null,
      "outputs": []
    },
    {
      "cell_type": "code",
      "metadata": {
        "id": "bFfRvUrfaVhi",
        "colab_type": "code",
        "colab": {}
      },
      "source": [
        "grid = sns.FacetGrid(titanic, row='Embarked', size=2.2, aspect=1.6)\n",
        "grid.map(sns.pointplot, 'Pclass', 'Survived', 'Sex')\n",
        "grid.add_legend()"
      ],
      "execution_count": null,
      "outputs": []
    },
    {
      "cell_type": "code",
      "metadata": {
        "id": "lt6ahLRvaa2-",
        "colab_type": "code",
        "colab": {}
      },
      "source": [
        "titanic=titanic.drop(['Age_Band'],1)"
      ],
      "execution_count": null,
      "outputs": []
    },
    {
      "cell_type": "code",
      "metadata": {
        "id": "KMbl5bAmaf0Y",
        "colab_type": "code",
        "colab": {}
      },
      "source": [
        "titanic.loc[(titanic['Age']<=16.136),'Age']=1\n",
        "titanic.loc[(titanic['Age']>16.136) & (titanic['Age']<=32.102),'Age']=2\n",
        "titanic.loc[(titanic['Age']>32.102) & (titanic['Age']<=48.068),'Age']=3\n",
        "titanic.loc[(titanic['Age']>48.068) & (titanic['Age']<=64.034),'Age']=4\n",
        "titanic.loc[(titanic['Age']>64.034) & (titanic['Age']<=80.),'Age']=5\n",
        "titanic['Age'].unique()"
      ],
      "execution_count": null,
      "outputs": []
    },
    {
      "cell_type": "code",
      "metadata": {
        "id": "I2Eckmovcr6N",
        "colab_type": "code",
        "colab": {}
      },
      "source": [
        "titanic['FamilySize']=titanic['SibSp']+titanic['Parch']+1\n",
        "titanic=titanic.drop(['SibSp','Parch'],1)"
      ],
      "execution_count": null,
      "outputs": []
    },
    {
      "cell_type": "code",
      "metadata": {
        "id": "63iPvis3cxGk",
        "colab_type": "code",
        "colab": {}
      },
      "source": [
        "sns.catplot(x='FamilySize',y='Survived',data=titanic,kind='bar')"
      ],
      "execution_count": null,
      "outputs": []
    },
    {
      "cell_type": "code",
      "metadata": {
        "id": "wo4k-tCac2PT",
        "colab_type": "code",
        "colab": {}
      },
      "source": [
        "sns.catplot(x='FamilySize',y='Survived',data=titanic,kind='bar',hue='Sex')"
      ],
      "execution_count": null,
      "outputs": []
    },
    {
      "cell_type": "code",
      "metadata": {
        "id": "FVzhCQEnc8Vh",
        "colab_type": "code",
        "colab": {}
      },
      "source": [
        "sns.catplot(x='FamilySize',y='Survived',data=titanic,kind='bar',hue='Pclass')"
      ],
      "execution_count": null,
      "outputs": []
    },
    {
      "cell_type": "code",
      "metadata": {
        "id": "RDXy7RPTdDqG",
        "colab_type": "code",
        "colab": {}
      },
      "source": [
        "titanic=titanic.drop(['Ticket'],1)\n",
        "titanic.head()"
      ],
      "execution_count": null,
      "outputs": []
    },
    {
      "cell_type": "code",
      "metadata": {
        "id": "xkyG746QdK9s",
        "colab_type": "code",
        "colab": {}
      },
      "source": [
        "titanic['Cabin'].isnull().sum()"
      ],
      "execution_count": null,
      "outputs": []
    },
    {
      "cell_type": "code",
      "metadata": {
        "id": "ahGo19t2dPlR",
        "colab_type": "code",
        "colab": {}
      },
      "source": [
        "titanic['Cabin'].unique()"
      ],
      "execution_count": null,
      "outputs": []
    },
    {
      "cell_type": "code",
      "metadata": {
        "id": "8eP6xDbddduK",
        "colab_type": "code",
        "colab": {}
      },
      "source": [
        "titanic['Cabin']=titanic['Cabin'].fillna('U')\n",
        "titanic['Cabin']=titanic['Cabin'].astype(str).str[0]"
      ],
      "execution_count": null,
      "outputs": []
    },
    {
      "cell_type": "code",
      "metadata": {
        "id": "O4ErwkRgdmmz",
        "colab_type": "code",
        "colab": {}
      },
      "source": [
        "titanic.Cabin.unique()"
      ],
      "execution_count": null,
      "outputs": []
    },
    {
      "cell_type": "code",
      "metadata": {
        "id": "-kJViinzd1VI",
        "colab_type": "code",
        "colab": {}
      },
      "source": [
        "sns.catplot(x='Cabin',y='Survived',data=titanic,kind='bar')"
      ],
      "execution_count": null,
      "outputs": []
    },
    {
      "cell_type": "code",
      "metadata": {
        "id": "9wJKWz6WeBfP",
        "colab_type": "code",
        "colab": {}
      },
      "source": [
        "sns.catplot(x='Cabin',y='Survived',data=titanic,col='Sex',kind='bar')"
      ],
      "execution_count": null,
      "outputs": []
    },
    {
      "cell_type": "code",
      "metadata": {
        "id": "0DQtBUo4eF6G",
        "colab_type": "code",
        "colab": {}
      },
      "source": [
        "sns.catplot(x='Cabin',y='Survived',data=titanic,col='Pclass',kind='bar')"
      ],
      "execution_count": null,
      "outputs": []
    },
    {
      "cell_type": "code",
      "metadata": {
        "id": "oTc3cugReLKp",
        "colab_type": "code",
        "colab": {}
      },
      "source": [
        "sns.catplot(x='Cabin',y='Survived',data=titanic,col='Pclass',row='Sex',kind='bar')"
      ],
      "execution_count": null,
      "outputs": []
    },
    {
      "cell_type": "code",
      "metadata": {
        "id": "TXd7RaRXeSV8",
        "colab_type": "code",
        "colab": {}
      },
      "source": [
        "titanic=titanic.drop(['Cabin'],1)\n",
        "titanic.head()"
      ],
      "execution_count": null,
      "outputs": []
    },
    {
      "cell_type": "code",
      "metadata": {
        "id": "5NY81qEFefI6",
        "colab_type": "code",
        "colab": {}
      },
      "source": [
        "print(titanic['Embarked'].unique())\n",
        "print(titanic['Embarked'].isnull().sum())"
      ],
      "execution_count": null,
      "outputs": []
    },
    {
      "cell_type": "code",
      "metadata": {
        "id": "SW5EEWVdekBa",
        "colab_type": "code",
        "colab": {}
      },
      "source": [
        "titanic['Embarked']=titanic['Embarked'].fillna(titanic['Embarked'].value_counts().index[0])\n",
        "print(titanic['Embarked'].unique())"
      ],
      "execution_count": null,
      "outputs": []
    },
    {
      "cell_type": "code",
      "metadata": {
        "id": "d1jIqocXenrC",
        "colab_type": "code",
        "colab": {}
      },
      "source": [
        "sns.catplot(x='Embarked',y='Survived',data=titanic,kind='bar')"
      ],
      "execution_count": null,
      "outputs": []
    },
    {
      "cell_type": "code",
      "metadata": {
        "id": "vnISG-kderDT",
        "colab_type": "code",
        "colab": {}
      },
      "source": [
        "titanic.head()"
      ],
      "execution_count": null,
      "outputs": []
    },
    {
      "cell_type": "code",
      "metadata": {
        "id": "cbdtJZZDe2J5",
        "colab_type": "code",
        "colab": {}
      },
      "source": [
        "sns.pairplot(titanic)"
      ],
      "execution_count": null,
      "outputs": []
    },
    {
      "cell_type": "code",
      "metadata": {
        "id": "gzqzfi8_e99c",
        "colab_type": "code",
        "colab": {}
      },
      "source": [
        "plt.figure(figsize=(10,10))\n",
        "sns.heatmap(titanic.corr(), annot=True)"
      ],
      "execution_count": null,
      "outputs": []
    },
    {
      "cell_type": "code",
      "metadata": {
        "id": "1nVQUv47fD8G",
        "colab_type": "code",
        "colab": {}
      },
      "source": [
        "titanic.head()"
      ],
      "execution_count": null,
      "outputs": []
    },
    {
      "cell_type": "code",
      "metadata": {
        "id": "lUR5mAFofLKd",
        "colab_type": "code",
        "colab": {}
      },
      "source": [
        "titanic=pd.get_dummies(columns=['Pclass','Sex','Embarked','Title','Age','Fare'],data=titanic)\n",
        "titanic.head()"
      ],
      "execution_count": null,
      "outputs": []
    },
    {
      "cell_type": "code",
      "metadata": {
        "id": "5CFU8zHWfTaY",
        "colab_type": "code",
        "colab": {}
      },
      "source": [
        "from sklearn.preprocessing import StandardScaler\n",
        "scaler=StandardScaler()\n",
        "from sklearn.model_selection import train_test_split\n",
        "X = titanic.drop(['Survived'],axis=1)\n",
        "y = titanic['Survived']\n",
        "\n",
        "X_train, X_test, y_train, y_test = train_test_split(X, y,test_size=.20,random_state =123)\n",
        "scaler.fit(X_train)\n",
        "X_train=scaler.transform(X_train)\n",
        "X_train"
      ],
      "execution_count": null,
      "outputs": []
    },
    {
      "cell_type": "code",
      "metadata": {
        "id": "1cdHCiyvfdRP",
        "colab_type": "code",
        "colab": {}
      },
      "source": [
        "X_test=scaler.transform(X_test)\n",
        "X_test"
      ],
      "execution_count": null,
      "outputs": []
    },
    {
      "cell_type": "code",
      "metadata": {
        "id": "vMtxOhPhfiIy",
        "colab_type": "code",
        "colab": {}
      },
      "source": [
        "from sklearn.model_selection import train_test_split\n",
        "X = titanic.drop(['Survived'],axis=1)\n",
        "y = titanic['Survived']\n",
        "\n",
        "X_train, X_test, y_train, y_test = train_test_split(X, y,test_size=.20,random_state =123)\n",
        "\n",
        "from sklearn.linear_model import LogisticRegression\n",
        "LR=LogisticRegression(C=0.01)\n",
        "LR.fit(X_train,y_train)\n",
        "print('Logistic Regression Train Score :',LR.score(X_train,y_train))\n",
        "print('Logistic Regression Test Score :',LR.score(X_test,y_test))"
      ],
      "execution_count": null,
      "outputs": []
    },
    {
      "cell_type": "code",
      "metadata": {
        "id": "i1HvU60uf0iF",
        "colab_type": "code",
        "colab": {}
      },
      "source": [
        "from sklearn.metrics import confusion_matrix\n",
        "CM_LR=confusion_matrix(y_test,y_predict_LR)\n",
        "print(CM_LR)\n",
        "sns.heatmap(CM_LR,center=True,annot=True)"
      ],
      "execution_count": null,
      "outputs": []
    },
    {
      "cell_type": "code",
      "metadata": {
        "id": "sQYUG7PVfsaY",
        "colab_type": "code",
        "colab": {}
      },
      "source": [
        "y_predict_LR=LR.predict(X_test)\n",
        "print('Y Predict: ',y_predict_LR)"
      ],
      "execution_count": null,
      "outputs": []
    },
    {
      "cell_type": "code",
      "metadata": {
        "id": "Ek6O6TbPf4c5",
        "colab_type": "code",
        "colab": {}
      },
      "source": [
        "from sklearn.metrics import accuracy_score\n",
        "acc_LR=accuracy_score(y_test,y_predict_LR)\n",
        "print(acc_LR)"
      ],
      "execution_count": null,
      "outputs": []
    },
    {
      "cell_type": "code",
      "metadata": {
        "id": "kdPgAEXhgCwF",
        "colab_type": "code",
        "colab": {}
      },
      "source": [
        "from sklearn.metrics import classification_report\n",
        "CR_LR=classification_report(y_test,y_predict_LR)\n",
        "print(CR_LR)"
      ],
      "execution_count": null,
      "outputs": []
    },
    {
      "cell_type": "code",
      "metadata": {
        "id": "vS5YjWswgH_8",
        "colab_type": "code",
        "colab": {}
      },
      "source": [
        "from sklearn.metrics import roc_curve,auc\n",
        "LR_tpr,LR_fpr,threshold=roc_curve(y_test,y_predict_LR)\n",
        "LR_auc = auc(LR_tpr, LR_fpr)\n",
        "print('LR_tpr: ',LR_tpr)\n",
        "print('LR_fpr: ',LR_fpr)\n",
        "print('threshold: ',threshold)\n",
        "\n",
        "#Draw ROC Curve && AUC [Area Under The Curve]\n",
        "plt.figure(figsize=(9, 8))\n",
        "plt.plot(LR_tpr, LR_fpr, marker='o', label='Logistic Regression (auc = %0.3f)' % LR_auc)\n",
        "plt.ylabel('True Positive Rate -->')\n",
        "plt.xlabel('False Positive Rate -->')\n",
        "\n",
        "plt.legend()\n",
        "\n",
        "plt.show()"
      ],
      "execution_count": null,
      "outputs": []
    },
    {
      "cell_type": "code",
      "metadata": {
        "id": "HKt7BHeIglkP",
        "colab_type": "code",
        "colab": {}
      },
      "source": [
        "from sklearn.svm import SVC\n",
        "SVM=SVC(C=1,kernel='rbf')\n",
        "SVM.fit(X_train,y_train)\n",
        "print('Logistic Regression Train Score :',SVM.score(X_train,y_train))\n",
        "print('Logistic Regression Test Score :',SVM.score(X_test,y_test))"
      ],
      "execution_count": null,
      "outputs": []
    },
    {
      "cell_type": "code",
      "metadata": {
        "id": "gHuQfPRQgycC",
        "colab_type": "code",
        "colab": {}
      },
      "source": [
        "y_predict_SVM=SVM.predict(X_test)\n",
        "print(y_predict_SVM)"
      ],
      "execution_count": null,
      "outputs": []
    },
    {
      "cell_type": "code",
      "metadata": {
        "id": "kO-V-n4Jg1n0",
        "colab_type": "code",
        "colab": {}
      },
      "source": [
        "from sklearn.metrics import  confusion_matrix\n",
        "CM_SVM=confusion_matrix(y_test,y_predict_SVM)\n",
        "print(CM_SVM)\n",
        "sns.heatmap(CM_SVM,center=True,annot=True)"
      ],
      "execution_count": null,
      "outputs": []
    },
    {
      "cell_type": "code",
      "metadata": {
        "id": "fO4uLaUqg8un",
        "colab_type": "code",
        "colab": {}
      },
      "source": [
        "from sklearn.metrics import accuracy_score\n",
        "acc_svm=accuracy_score(y_test,y_predict_SVM)\n",
        "print(acc_svm)"
      ],
      "execution_count": null,
      "outputs": []
    },
    {
      "cell_type": "code",
      "metadata": {
        "id": "_4Y4ffAmhIxd",
        "colab_type": "code",
        "colab": {}
      },
      "source": [
        "from sklearn.metrics import classification_report\n",
        "CR_SVM=classification_report(y_test,y_predict_SVM)\n",
        "print(CR_SVM)"
      ],
      "execution_count": null,
      "outputs": []
    },
    {
      "cell_type": "code",
      "metadata": {
        "id": "EhmSHOE-hLyj",
        "colab_type": "code",
        "colab": {}
      },
      "source": [
        "from sklearn.metrics import roc_curve,auc\n",
        "svm_tpr,svm_fpr,threshold=roc_curve(y_test,y_predict_SVM)\n",
        "svm_auc=auc(svm_tpr,svm_fpr)\n",
        "print('svm_tpr',svm_tpr)\n",
        "print('svm_fpr',svm_fpr)\n",
        "print('threshold',threshold)\n",
        "\n",
        "\n",
        "#Draw ROC Curve && AUC [Area Under The Curve]\n",
        "plt.figure(figsize=(9, 5))\n",
        "plt.plot(svm_tpr, svm_fpr, linestyle=':', label='SVM (auc = %0.3f)' % svm_auc)\n",
        "\n",
        "plt.xlabel('False Positive Rate -->')\n",
        "plt.ylabel('True Positive Rate -->')\n",
        "\n",
        "plt.legend()\n",
        "\n",
        "plt.show()"
      ],
      "execution_count": null,
      "outputs": []
    },
    {
      "cell_type": "code",
      "metadata": {
        "id": "y1chle2whVD9",
        "colab_type": "code",
        "colab": {}
      },
      "source": [
        "from sklearn.neighbors import KNeighborsClassifier\n",
        "knn=KNeighborsClassifier(n_neighbors=13,metric = 'minkowski', p = 1)\n",
        "knn.fit(X_train,y_train)\n",
        "print('KNN Train Score :',knn.score(X_train,y_train))\n",
        "print('KNN Test Score :',knn.score(X_test,y_test))"
      ],
      "execution_count": null,
      "outputs": []
    },
    {
      "cell_type": "code",
      "metadata": {
        "id": "mWNXAqkMiJuq",
        "colab_type": "code",
        "colab": {}
      },
      "source": [
        "y_predict_knn=knn.predict(X_test)\n",
        "print(y_predict_knn)"
      ],
      "execution_count": null,
      "outputs": []
    },
    {
      "cell_type": "code",
      "metadata": {
        "id": "ODeb2JkVikQ0",
        "colab_type": "code",
        "colab": {}
      },
      "source": [
        "from sklearn.metrics import confusion_matrix\n",
        "cm_knn=confusion_matrix(y_test,y_predict_knn)\n",
        "print(cm_knn)\n",
        "sns.heatmap(cm_knn,center=True,annot=True)"
      ],
      "execution_count": null,
      "outputs": []
    },
    {
      "cell_type": "code",
      "metadata": {
        "id": "37wrbED7i_J5",
        "colab_type": "code",
        "colab": {}
      },
      "source": [
        "from sklearn.metrics import accuracy_score\n",
        "acc_knn=accuracy_score(y_test,y_predict_knn)\n",
        "print(acc_knn)"
      ],
      "execution_count": null,
      "outputs": []
    },
    {
      "cell_type": "code",
      "metadata": {
        "id": "HvDzWPyEjNVN",
        "colab_type": "code",
        "colab": {}
      },
      "source": [
        "from sklearn.metrics import classification_report\n",
        "cr_knn=classification_report(y_test,y_predict_knn)\n",
        "print(cr_knn)"
      ],
      "execution_count": null,
      "outputs": []
    },
    {
      "cell_type": "code",
      "metadata": {
        "id": "imFxklAFjbwq",
        "colab_type": "code",
        "colab": {}
      },
      "source": [
        "from sklearn.metrics import roc_curve,auc\n",
        "knn_tpr,knn_fpr,threshold=roc_curve(y_test,y_predict_knn)\n",
        "print('True Positive Rate',knn_tpr)\n",
        "print('False Positive Rate',knn_fpr)\n",
        "print('threshold',threshold)\n",
        "\n",
        "knn_auc=auc(knn_tpr,knn_fpr)\n",
        "\n",
        "#Draw ROC Curve && AUC [Area Under The Curve]\n",
        "plt.figure(figsize=(9, 5))\n",
        "plt.plot(knn_tpr, knn_fpr, linestyle='--', label='KNN (auc = %0.3f)' %knn_auc)\n",
        "\n",
        "plt.xlabel('False Positive Rate -->')\n",
        "plt.ylabel('True Positive Rate -->')\n",
        "\n",
        "plt.legend()\n",
        "\n",
        "plt.show()"
      ],
      "execution_count": null,
      "outputs": []
    },
    {
      "cell_type": "code",
      "metadata": {
        "id": "fgD9Nwivjjxt",
        "colab_type": "code",
        "colab": {}
      },
      "source": [
        "from sklearn.tree import DecisionTreeClassifier\n",
        "dt=DecisionTreeClassifier(max_depth=7)\n",
        "dt.fit(X_train,y_train)\n",
        "print(' DecisionTree Train Score :',dt.score(X_train,y_train))\n",
        "print(' DecisionTree Test Score :',dt.score(X_test,y_test))\n",
        "print('DecisionTree Classifier Model feature importances are :\\n ' , dt.feature_importances_)"
      ],
      "execution_count": null,
      "outputs": []
    },
    {
      "cell_type": "code",
      "metadata": {
        "id": "HxlyZCxKjouP",
        "colab_type": "code",
        "colab": {}
      },
      "source": [
        "y_predict_dt=dt.predict(X_test)\n",
        "print(y_predict_dt)"
      ],
      "execution_count": null,
      "outputs": []
    },
    {
      "cell_type": "code",
      "metadata": {
        "id": "ZoOZofsYjwUc",
        "colab_type": "code",
        "colab": {}
      },
      "source": [
        "from sklearn.metrics import accuracy_score\n",
        "acc_dt=accuracy_score(y_test,y_predict_dt)\n",
        "print(acc_dt)"
      ],
      "execution_count": null,
      "outputs": []
    },
    {
      "cell_type": "code",
      "metadata": {
        "id": "XTBiDlAlj2Kb",
        "colab_type": "code",
        "colab": {}
      },
      "source": [
        "from sklearn.metrics import confusion_matrix\n",
        "cm_dt=confusion_matrix(y_test,y_predict_dt)\n",
        "print(cm_dt)\n",
        "sns.heatmap(cm_dt,center=True,annot=True)"
      ],
      "execution_count": null,
      "outputs": []
    },
    {
      "cell_type": "code",
      "metadata": {
        "id": "ef-le7pjj5c5",
        "colab_type": "code",
        "colab": {}
      },
      "source": [
        "from sklearn.metrics import classification_report\n",
        "cr_dt=classification_report(y_test,y_predict_dt)\n",
        "print(cr_dt)"
      ],
      "execution_count": null,
      "outputs": []
    },
    {
      "cell_type": "code",
      "metadata": {
        "id": "8TKJS38pkFP0",
        "colab_type": "code",
        "colab": {}
      },
      "source": [
        "from sklearn.metrics import roc_curve,auc\n",
        "dt_tpr,dt_fpr,threshold=roc_curve(y_test,y_predict_dt)\n",
        "print('True Positive Rate',dt_tpr)\n",
        "print('False Positive Rate',dt_fpr)\n",
        "print('threshold',threshold)\n",
        "\n",
        "dt_auc=auc(dt_tpr,dt_fpr)\n",
        "\n",
        "#Draw ROC Curve && AUC [Area Under The Curve]\n",
        "plt.figure(figsize=(9, 5))\n",
        "plt.plot(dt_tpr, dt_fpr, linestyle='--', label='DT (auc = %0.3f)' %dt_auc)\n",
        "\n",
        "plt.xlabel('False Positive Rate -->')\n",
        "plt.ylabel('True Positive Rate -->')\n",
        "\n",
        "plt.legend()\n",
        "\n",
        "plt.show()"
      ],
      "execution_count": null,
      "outputs": []
    },
    {
      "cell_type": "code",
      "metadata": {
        "id": "fIZh489pkLrQ",
        "colab_type": "code",
        "colab": {}
      },
      "source": [
        "from sklearn.ensemble import RandomForestClassifier \n",
        "rf=RandomForestClassifier(criterion = 'entropy',max_depth=6,n_estimators=9)\n",
        "rf.fit(X_train,y_train)\n",
        "print('Random Force Train Score :',rf.score(X_train,y_train))\n",
        "print('Random Force Test Score :',rf.score(X_test,y_test))\n",
        "print('Random Force Classifier Model feature importances are :\\n ' , rf.feature_importances_)\n",
        "print('----------------------------------------------------')"
      ],
      "execution_count": null,
      "outputs": []
    },
    {
      "cell_type": "code",
      "metadata": {
        "id": "bHO7ZBCXktN1",
        "colab_type": "code",
        "colab": {}
      },
      "source": [
        "y_pred_rf=rf.predict(X_test)\n",
        "print('Y Pred',y_pred_rf)"
      ],
      "execution_count": null,
      "outputs": []
    },
    {
      "cell_type": "code",
      "metadata": {
        "id": "yrsDE1wUkyN1",
        "colab_type": "code",
        "colab": {}
      },
      "source": [
        "from sklearn.metrics import confusion_matrix\n",
        "cm=confusion_matrix(y_test,y_pred_rf)\n",
        "print(cm)\n",
        "plt.figure(figsize=(9,5))\n",
        "sns.heatmap(cm,center=True,annot=True)\n",
        "plt.show()"
      ],
      "execution_count": null,
      "outputs": []
    },
    {
      "cell_type": "code",
      "metadata": {
        "id": "dcIwmSmrk2h6",
        "colab_type": "code",
        "colab": {}
      },
      "source": [
        "from sklearn.metrics import accuracy_score\n",
        "acc_rf=accuracy_score(y_test,y_pred_rf)\n",
        "print('Accuracy Score',acc_rf)"
      ],
      "execution_count": null,
      "outputs": []
    },
    {
      "cell_type": "code",
      "metadata": {
        "id": "y-cBpfc5lBAl",
        "colab_type": "code",
        "colab": {}
      },
      "source": [
        "from sklearn.metrics import classification_report\n",
        "cr=classification_report(y_test,y_pred_rf)\n",
        "print(cr)"
      ],
      "execution_count": null,
      "outputs": []
    },
    {
      "cell_type": "code",
      "metadata": {
        "id": "Tu9zdOVmlIH3",
        "colab_type": "code",
        "colab": {}
      },
      "source": [
        "from sklearn.metrics import roc_curve,auc\n",
        "rf_tpr,rf_fpr,threshold=roc_curve(y_test,y_pred_rf)\n",
        "rf_auc=auc(rf_tpr,rf_fpr)\n",
        "print('rf_tpr Value  : ', rf_tpr)\n",
        "print('rf_fpr Value  : ', rf_fpr)\n",
        "print('thresholds Value  : ', threshold)\n",
        "\n",
        "#Draw ROC Curve && AUC [Area Under The Curve]\n",
        "\n",
        "plt.figure(figsize=(5, 5), dpi=100)\n",
        "plt.plot(rf_tpr, rf_fpr, linestyle='-', label='Random Forest (auc = %0.3f)' % rf_auc)\n",
        "\n",
        "plt.xlabel('True Positive Rate -->')\n",
        "plt.ylabel('False Positive Rate -->')\n",
        "\n",
        "plt.legend()\n",
        "plt.show()"
      ],
      "execution_count": null,
      "outputs": []
    },
    {
      "cell_type": "code",
      "metadata": {
        "id": "Xiie7bsAlVe_",
        "colab_type": "code",
        "colab": {}
      },
      "source": [
        "from xgboost import XGBClassifier\n",
        "xgb=XGBClassifier()\n",
        "xgb.fit(X_train,y_train)\n",
        "print('XGB Train Score :',xgb.score(X_train,y_train))\n",
        "print('XGB Test Score :',xgb.score(X_test,y_test))"
      ],
      "execution_count": null,
      "outputs": []
    },
    {
      "cell_type": "code",
      "metadata": {
        "id": "wYEezVYwlaJh",
        "colab_type": "code",
        "colab": {}
      },
      "source": [
        "y_pred_xgb=xgb.predict(X_test)\n",
        "print('Y Pred',y_pred_xgb)"
      ],
      "execution_count": null,
      "outputs": []
    },
    {
      "cell_type": "code",
      "metadata": {
        "id": "w7K3-V-AleGz",
        "colab_type": "code",
        "colab": {}
      },
      "source": [
        "from sklearn.metrics import confusion_matrix\n",
        "cm=confusion_matrix(y_test,y_pred_xgb)\n",
        "print(cm)\n",
        "plt.figure(figsize=(9,5))\n",
        "sns.heatmap(cm,center=True,annot=True)\n",
        "plt.show()"
      ],
      "execution_count": null,
      "outputs": []
    },
    {
      "cell_type": "code",
      "metadata": {
        "id": "Ygj2BkjklxjP",
        "colab_type": "code",
        "colab": {}
      },
      "source": [
        "from sklearn.metrics import accuracy_score\n",
        "acc_xgb=accuracy_score(y_test,y_pred_xgb)\n",
        "print('Accuracy Score',acc_xgb)"
      ],
      "execution_count": null,
      "outputs": []
    },
    {
      "cell_type": "code",
      "metadata": {
        "id": "lmj5Vqcul8Kn",
        "colab_type": "code",
        "colab": {}
      },
      "source": [
        "from sklearn.metrics import classification_report\n",
        "cr=classification_report(y_test,y_pred_xgb)\n",
        "print(cr)"
      ],
      "execution_count": null,
      "outputs": []
    },
    {
      "cell_type": "code",
      "metadata": {
        "id": "8CBbIccMl_dl",
        "colab_type": "code",
        "colab": {}
      },
      "source": [
        "from sklearn.metrics import roc_curve,auc\n",
        "xgb_tpr,xgb_fpr,threshold=roc_curve(y_test,y_pred_xgb)\n",
        "xgb_auc=auc(xgb_tpr,xgb_fpr)\n",
        "print('xgb_tpr Value  : ', xgb_tpr)\n",
        "print('xgb_fpr Value  : ', xgb_fpr)\n",
        "print('thresholds Value  : ', threshold)\n",
        "\n",
        "#Draw ROC Curve && AUC [Area Under The Curve]\n",
        "\n",
        "plt.figure(figsize=(5, 5), dpi=100)\n",
        "plt.plot(xgb_tpr, xgb_fpr, linestyle='-', label='XGBOOST (auc = %0.3f)' % xgb_auc)\n",
        "\n",
        "plt.xlabel('True Positive Rate -->')\n",
        "plt.ylabel('False Positive Rate -->')\n",
        "\n",
        "plt.legend()\n",
        "plt.show()"
      ],
      "execution_count": null,
      "outputs": []
    },
    {
      "cell_type": "code",
      "metadata": {
        "id": "j-B1bIogmFp5",
        "colab_type": "code",
        "colab": {}
      },
      "source": [
        "from sklearn.naive_bayes import BernoulliNB\n",
        "NB=BernoulliNB()\n",
        "NB.fit(X_train,y_train)\n",
        "print('Naive Bayse Train Score',NB.score(X_train,y_train))\n",
        "print('Naive Bayse Test Score',NB.score(X_test,y_test))"
      ],
      "execution_count": null,
      "outputs": []
    },
    {
      "cell_type": "code",
      "metadata": {
        "id": "-3th7yDLmMq6",
        "colab_type": "code",
        "colab": {}
      },
      "source": [
        "y_pred_NB = NB.predict(X_test)\n",
        "y_pred_prob = NB.predict_proba(X_test)\n",
        "y_pred_prob2=y_pred_prob.astype(int)\n",
        "print('Y Test' ,y_test)\n",
        "print('Predicted Value for BernoulliNBModel is : ' , y_pred_NB)\n",
        "print('Prediction Probabilities Value for BernoulliNBModel is : \\n' , y_pred_prob2)"
      ],
      "execution_count": null,
      "outputs": []
    },
    {
      "cell_type": "code",
      "metadata": {
        "id": "p-5LXFy_mTU3",
        "colab_type": "code",
        "colab": {}
      },
      "source": [
        "from sklearn.metrics import confusion_matrix\n",
        "cm=confusion_matrix(y_test,y_pred_NB)\n",
        "print(cm)\n",
        "plt.figure(figsize=(9,5))\n",
        "sns.heatmap(cm,center=True,annot=True)"
      ],
      "execution_count": null,
      "outputs": []
    },
    {
      "cell_type": "code",
      "metadata": {
        "id": "gLMgb-t4mdtr",
        "colab_type": "code",
        "colab": {}
      },
      "source": [
        "from sklearn.metrics import accuracy_score\n",
        "acc_nb=accuracy_score(y_test,y_pred_NB)\n",
        "print(acc_nb)"
      ],
      "execution_count": null,
      "outputs": []
    },
    {
      "cell_type": "code",
      "metadata": {
        "id": "DA-BJ2_imlgM",
        "colab_type": "code",
        "colab": {}
      },
      "source": [
        "from sklearn.metrics import classification_report\n",
        "cr=classification_report(y_test,y_pred_NB)\n",
        "print(cr)"
      ],
      "execution_count": null,
      "outputs": []
    },
    {
      "cell_type": "code",
      "metadata": {
        "id": "SBNy-LYAmpJi",
        "colab_type": "code",
        "colab": {}
      },
      "source": [
        "from sklearn.metrics import roc_curve,auc\n",
        "nb_tpr,nb_fpr,threshold=roc_curve(y_test,y_pred_NB)\n",
        "nb_auc=auc(nb_tpr,nb_fpr)\n",
        "print('nb_tpr Value  : ', nb_tpr)\n",
        "print('nb_fpr Value  : ', nb_fpr)\n",
        "print('thresholds Value  : ', threshold)\n",
        "\n",
        "#Draw ROC Curve && AUC [Area Under The Curve]\n",
        "\n",
        "plt.figure(figsize=(5, 5), dpi=100)\n",
        "plt.plot(rf_tpr, rf_fpr, linestyle='-', label='Naive Baias (auc = %0.3f)' % nb_auc)\n",
        "\n",
        "plt.xlabel('True Positive Rate -->')\n",
        "plt.ylabel('False Positive Rate -->')\n",
        "\n",
        "plt.legend()\n",
        "plt.show()"
      ],
      "execution_count": null,
      "outputs": []
    },
    {
      "cell_type": "code",
      "metadata": {
        "id": "guM406qemzGd",
        "colab_type": "code",
        "colab": {}
      },
      "source": [
        "from sklearn.metrics import roc_curve, auc\n",
        "\n",
        "LR_tpr,LR_fpr,threshold=roc_curve(y_test,y_predict_LR)\n",
        "LR_auc = auc(LR_tpr, LR_fpr)\n",
        "\n",
        "svm_fpr, svm_tpr, threshold = roc_curve(y_test, y_predict_SVM)\n",
        "auc_svm = auc(svm_fpr, svm_tpr)\n",
        "\n",
        "knn_fpr, knn_tpr, threshold = roc_curve(y_test, y_predict_knn)\n",
        "auc_knn = auc(knn_fpr, knn_tpr)\n",
        "\n",
        "dt_fpr, dt_tpr, threshold = roc_curve(y_test, y_predict_dt)\n",
        "auc_dt = auc(dt_fpr, dt_tpr)\n",
        "\n",
        "rf_fpr, rf_tpr, threshold = roc_curve(y_test, y_pred_rf)\n",
        "auc_rf = auc(rf_fpr, rf_tpr)\n",
        "\n",
        "\n",
        "nb_fpr, nb_tpr, threshold = roc_curve(y_test, y_pred_NB)\n",
        "auc_nb = auc(nb_fpr, nb_tpr)\n",
        "\n",
        "xgb_fpr, xgb_tpr, threshold = roc_curve(y_test, y_pred_xgb)\n",
        "auc_xgb = auc(xgb_fpr, xgb_tpr)\n",
        "\n",
        "plt.figure(figsize=(9, 5))\n",
        "plt.plot(LR_tpr, LR_fpr, marker='o', label='Logistic Regression (auc = %0.3f)' % LR_auc)\n",
        "plt.plot(svm_fpr, svm_tpr, linestyle='--', label='SVM (auc = %0.3f)' % auc_svm)\n",
        "plt.plot(knn_fpr, knn_tpr, linestyle=':', label='KNN (auc = %0.3f)' % auc_knn)\n",
        "plt.plot(dt_fpr, dt_tpr, linestyle='-', label='DT (auc = %0.3f)' % auc_dt)\n",
        "plt.plot(rf_fpr, rf_tpr, linestyle='-', label='RF (auc = %0.3f)' % auc_rf)\n",
        "plt.plot(nb_fpr, nb_tpr, linestyle='--', label='NB (auc = %0.3f)' % auc_nb)\n",
        "plt.plot(xgb_fpr, xgb_tpr, linestyle='--', label='XGB (auc = %0.3f)' % auc_xgb)\n",
        "\n",
        "plt.xlabel('False Positive Rate -->')\n",
        "plt.ylabel('True Positive Rate -->')\n",
        "\n",
        "plt.legend()"
      ],
      "execution_count": null,
      "outputs": []
    },
    {
      "cell_type": "code",
      "metadata": {
        "id": "q9h2V4wQnTXX",
        "colab_type": "code",
        "colab": {}
      },
      "source": [
        "from sklearn.model_selection import RepeatedStratifiedKFold\n",
        "from sklearn.model_selection import GridSearchCV\n",
        "from sklearn.neighbors import KNeighborsClassifier\n",
        "model = KNeighborsClassifier()\n",
        "n_neighbors = range(1, 31)\n",
        "weights = ['uniform', 'distance']\n",
        "metric = ['euclidean', 'manhattan', 'minkowski']\n",
        "# define grid search\n",
        "grid = dict(n_neighbors=n_neighbors,weights=weights,metric=metric)\n",
        "cv = RepeatedStratifiedKFold(n_splits=10, n_repeats=3, random_state=1)\n",
        "grid_search = GridSearchCV(estimator=model, param_grid=grid, n_jobs=-1, cv=cv, scoring='accuracy',error_score=0)\n",
        "grid_result = grid_search.fit(X, y)\n",
        "# summarize results\n",
        "print(\"Best: %f using %s\" % (grid_result.best_score_, grid_result.best_params_))\n",
        "means = grid_result.cv_results_['mean_test_score']\n",
        "stds = grid_result.cv_results_['std_test_score']\n",
        "params = grid_result.cv_results_['params']\n",
        "for mean, stdev, param in zip(means, stds, params):\n",
        "    print(\"%f (%f) with: %r\" % (mean, stdev, param))"
      ],
      "execution_count": null,
      "outputs": []
    },
    {
      "cell_type": "code",
      "metadata": {
        "id": "iPHzGTASnr40",
        "colab_type": "code",
        "colab": {}
      },
      "source": [
        "from sklearn.model_selection import RepeatedStratifiedKFold\n",
        "from sklearn.model_selection import GridSearchCV\n",
        "from sklearn.svm import SVC\n",
        "model = SVC()\n",
        "kernel = ['poly', 'rbf', 'sigmoid']\n",
        "C = [50, 10, 1.0, 0.1, 0.01]\n",
        "gamma = ['scale']\n",
        "# define grid search\n",
        "grid = dict(kernel=kernel,C=C,gamma=gamma)\n",
        "cv = RepeatedStratifiedKFold(n_splits=10, n_repeats=3, random_state=1)\n",
        "grid_search = GridSearchCV(estimator=model, param_grid=grid, n_jobs=-1, cv=cv, scoring='accuracy',error_score=0)\n",
        "grid_result = grid_search.fit(X, y)\n",
        "# summarize results\n",
        "print(\"Best: %f using %s\" % (grid_result.best_score_, grid_result.best_params_))\n",
        "means = grid_result.cv_results_['mean_test_score']\n",
        "stds = grid_result.cv_results_['std_test_score']\n",
        "params = grid_result.cv_results_['params']\n",
        "for mean, stdev, param in zip(means, stds, params):\n",
        "    print(\"%f (%f) with: %r\" % (mean, stdev, param))"
      ],
      "execution_count": null,
      "outputs": []
    },
    {
      "cell_type": "code",
      "metadata": {
        "id": "WjdHTdPRoB2Q",
        "colab_type": "code",
        "colab": {}
      },
      "source": [
        "from sklearn.model_selection import RepeatedStratifiedKFold\n",
        "from sklearn.model_selection import GridSearchCV\n",
        "from sklearn.ensemble import RandomForestClassifier\n",
        "model = RandomForestClassifier()\n",
        "n_estimators = [10, 100, 1000]\n",
        "max_features = ['sqrt', 'log2']\n",
        "# define grid search\n",
        "grid = dict(n_estimators=n_estimators,max_features=max_features)\n",
        "cv = RepeatedStratifiedKFold(n_splits=10, n_repeats=3, random_state=1)\n",
        "grid_search = GridSearchCV(estimator=model, param_grid=grid, n_jobs=-1, cv=cv, scoring='accuracy',error_score=0)\n",
        "grid_result = grid_search.fit(X, y)\n",
        "# summarize results\n",
        "print(\"Best: %f using %s\" % (grid_result.best_score_, grid_result.best_params_))\n",
        "means = grid_result.cv_results_['mean_test_score']\n",
        "stds = grid_result.cv_results_['std_test_score']\n",
        "params = grid_result.cv_results_['params']\n",
        "for mean, stdev, param in zip(means, stds, params):\n",
        "    print(\"%f (%f) with: %r\" % (mean, stdev, param))"
      ],
      "execution_count": null,
      "outputs": []
    },
    {
      "cell_type": "code",
      "metadata": {
        "id": "82RpLEDbojFR",
        "colab_type": "code",
        "colab": {}
      },
      "source": [
        "from sklearn.model_selection import RepeatedStratifiedKFold\n",
        "from sklearn.model_selection import GridSearchCV\n",
        "from sklearn.linear_model import LogisticRegression\n",
        "# define models and parameters\n",
        "model = LogisticRegression()\n",
        "solvers = ['newton-cg', 'lbfgs', 'liblinear']\n",
        "penalty = ['l2']\n",
        "c_values = [100, 10, 1.0, 0.1, 0.01]\n",
        "# define grid search\n",
        "grid = dict(solver=solvers,penalty=penalty,C=c_values)\n",
        "cv = RepeatedStratifiedKFold(n_splits=10, n_repeats=3, random_state=1)\n",
        "grid_search = GridSearchCV(estimator=model, param_grid=grid, n_jobs=-1, cv=cv, scoring='accuracy',error_score=0)\n",
        "grid_result = grid_search.fit(X, y)\n",
        "# summarize results\n",
        "print(\"Best: %f using %s\" % (grid_result.best_score_, grid_result.best_params_))\n",
        "means = grid_result.cv_results_['mean_test_score']\n",
        "stds = grid_result.cv_results_['std_test_score']\n",
        "params = grid_result.cv_results_['params']\n",
        "for mean, stdev, param in zip(means, stds, params):\n",
        "    print(\"%f (%f) with: %r\" % (mean, stdev, param))"
      ],
      "execution_count": null,
      "outputs": []
    }
  ]
}